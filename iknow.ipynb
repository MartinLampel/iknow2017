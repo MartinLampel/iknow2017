{
 "cells": [
  {
   "cell_type": "code",
   "execution_count": 2,
   "metadata": {
    "collapsed": true
   },
   "outputs": [],
   "source": [
    "import numpy as np\n",
    "from sklearn.decomposition import PCA\n",
    "from sklearn.cluster import KMeans\n",
    "\n",
    "from mpl_toolkits.mplot3d import Axes3D\n",
    "import matplotlib.pyplot as plt\n",
    "from iknowutil import *"
   ]
  },
  {
   "cell_type": "code",
   "execution_count": null,
   "metadata": {
    "collapsed": true
   },
   "outputs": [],
   "source": [
    "entries, _ =  load_data('training_set.xml', True)\n",
    "    \n",
    "fig = plt.figure()\n",
    "ax = fig.gca(projection='3d')\n",
    "ax.scatter(entries[0,  :, 0], entries[0,  :, 1], entries[0,  :, 2])\n",
    "#plt.show()\n",
    "fig = plt.figure()\n",
    "ax = fig.gca(projection='3d')\n",
    "\n",
    "ax.scatter(entries[96,  :, 0], entries[96,  :, 1], entries[96,  :, 2], alpha=0.5)\n",
    "ax.scatter(entries[97,  :, 0], entries[97,  :, 1], entries[97,  :, 2], c='red', alpha=0.5)\n",
    "plt.title('96 97')\n",
    "plt.show()\n",
    "fig = plt.figure()\n",
    "ax = fig.gca(projection='3d')\n",
    "ax.scatter(entries[161,  :, 0], entries[161,  :, 1], entries[161,  :, 2], c='orange')\n",
    "ax.scatter(entries[162,  :, 0], entries[162,  :, 1], entries[162,  :, 2])\n",
    "ax.scatter(entries[163,  :, 0], entries[163,  :, 1], entries[163,  :, 2], c='red')\n",
    "plt.title('162 163')\n",
    "plt.show()\n",
    "\n",
    "\n",
    "pca = PCA(n_components=2)\n",
    "\n",
    "entries, energies = load_data('training_set.xml')\n",
    "reduced_entries = pca.fit_transform(entries)\n",
    "\n",
    "kmeans = KMeans(n_clusters=60)\n",
    "labels = kmeans.fit_predict(reduced_entries)\n",
    "\n",
    "plt.figure(1)\n",
    "plt.clf()\n",
    "\n",
    "color = 'bgrcmyk'\n",
    "for i in range(60):\n",
    "    plt.scatter(reduced_entries[labels == i, 0], reduced_entries[labels == i, 1], \n",
    "                color=color[i%7])\n",
    "\n",
    "centroids = kmeans.cluster_centers_\n",
    "plt.scatter(centroids[:, 0], centroids[:, 1],\n",
    "            marker='x', s=169, linewidths=3,\n",
    "            color='w', zorder=10)\n",
    "plt.title('K-means clustering on the digits dataset (PCA-reduced data)\\n'\n",
    "          'Centroids are marked with white cross')\n",
    "\n",
    "plt.show()"
   ]
  }
 ],
 "metadata": {
  "kernelspec": {
   "display_name": "Python 3",
   "language": "python",
   "name": "python3"
  },
  "language_info": {
   "codemirror_mode": {
    "name": "ipython",
    "version": 3
   },
   "file_extension": ".py",
   "mimetype": "text/x-python",
   "name": "python",
   "nbconvert_exporter": "python",
   "pygments_lexer": "ipython3",
   "version": "3.6.0"
  }
 },
 "nbformat": 4,
 "nbformat_minor": 2
}
